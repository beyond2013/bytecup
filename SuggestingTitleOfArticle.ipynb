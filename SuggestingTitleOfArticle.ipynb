{
  "nbformat": 4,
  "nbformat_minor": 0,
  "metadata": {
    "colab": {
      "name": "SuggestingTitleOfArticle.ipynb",
      "version": "0.3.2",
      "provenance": [],
      "collapsed_sections": [],
      "include_colab_link": true
    },
    "kernelspec": {
      "name": "python3",
      "display_name": "Python 3"
    }
  },
  "cells": [
    {
      "cell_type": "markdown",
      "metadata": {
        "id": "view-in-github",
        "colab_type": "text"
      },
      "source": [
        "<a href=\"https://colab.research.google.com/github/beyond2013/bytecup/blob/master/SuggestingTitleOfArticle.ipynb\" target=\"_parent\"><img src=\"https://colab.research.google.com/assets/colab-badge.svg\" alt=\"Open In Colab\"/></a>"
      ]
    },
    {
      "cell_type": "markdown",
      "metadata": {
        "id": "KXxU7vNWWnT7",
        "colab_type": "text"
      },
      "source": [
        "#Loading Training data from google drive. \n",
        "\n",
        "I have uploaded the training data to google drive and for reading it in colab the following code is required."
      ]
    },
    {
      "cell_type": "code",
      "metadata": {
        "id": "aI3B6vPlWeJu",
        "colab_type": "code",
        "outputId": "7d7e740d-2d5e-4403-f0b1-c5c433e8e6b4",
        "colab": {
          "base_uri": "https://localhost:8080/",
          "height": 34
        }
      },
      "source": [
        "from google.colab import drive\n",
        "drive.mount('/content/drive')\n"
      ],
      "execution_count": 24,
      "outputs": [
        {
          "output_type": "stream",
          "text": [
            "Drive already mounted at /content/drive; to attempt to forcibly remount, call drive.mount(\"/content/drive\", force_remount=True).\n"
          ],
          "name": "stdout"
        }
      ]
    },
    {
      "cell_type": "code",
      "metadata": {
        "id": "as-vWxJCbmnp",
        "colab_type": "code",
        "colab": {}
      },
      "source": [
        "path_to_file = 'drive/My Drive/ByteCupData/bytecup.corpus.train.0.txt' #remove ‘content/’ from path then use "
      ],
      "execution_count": 0,
      "outputs": []
    },
    {
      "cell_type": "code",
      "metadata": {
        "id": "YE7P5LtheWC6",
        "colab_type": "code",
        "colab": {}
      },
      "source": [
        "import pandas as pd\n",
        "df = pd.read_json(path_to_file, lines=True)"
      ],
      "execution_count": 0,
      "outputs": []
    },
    {
      "cell_type": "code",
      "metadata": {
        "id": "e3byqwHsgWgB",
        "colab_type": "code",
        "outputId": "65330a83-1b71-451b-f59e-7491a8fc2edc",
        "colab": {
          "base_uri": "https://localhost:8080/",
          "height": 204
        }
      },
      "source": [
        "df.head()\n",
        "\n"
      ],
      "execution_count": 18,
      "outputs": [
        {
          "output_type": "execute_result",
          "data": {
            "text/html": [
              "<div>\n",
              "<style scoped>\n",
              "    .dataframe tbody tr th:only-of-type {\n",
              "        vertical-align: middle;\n",
              "    }\n",
              "\n",
              "    .dataframe tbody tr th {\n",
              "        vertical-align: top;\n",
              "    }\n",
              "\n",
              "    .dataframe thead th {\n",
              "        text-align: right;\n",
              "    }\n",
              "</style>\n",
              "<table border=\"1\" class=\"dataframe\">\n",
              "  <thead>\n",
              "    <tr style=\"text-align: right;\">\n",
              "      <th></th>\n",
              "      <th>content</th>\n",
              "      <th>id</th>\n",
              "      <th>title</th>\n",
              "    </tr>\n",
              "  </thead>\n",
              "  <tbody>\n",
              "    <tr>\n",
              "      <th>0</th>\n",
              "      <td>This was the year that felt like 50 years. We ...</td>\n",
              "      <td>1</td>\n",
              "      <td>21 Stories Our Readers Loved in 2017</td>\n",
              "    </tr>\n",
              "    <tr>\n",
              "      <th>1</th>\n",
              "      <td>Gary Vaynerchuk once told a 20 year old Taylor...</td>\n",
              "      <td>2</td>\n",
              "      <td>What To Do After Graduating College</td>\n",
              "    </tr>\n",
              "    <tr>\n",
              "      <th>2</th>\n",
              "      <td>On this episode of Recode Decode, hosted by Ka...</td>\n",
              "      <td>3</td>\n",
              "      <td>Full transcript: Former Groupon CEO Andrew Mas...</td>\n",
              "    </tr>\n",
              "    <tr>\n",
              "      <th>3</th>\n",
              "      <td>Today we are going to talk about the Albigensi...</td>\n",
              "      <td>4</td>\n",
              "      <td>The Albigensian Crusade And The Black Mass</td>\n",
              "    </tr>\n",
              "    <tr>\n",
              "      <th>4</th>\n",
              "      <td>IntroductionThe more you want to impact the re...</td>\n",
              "      <td>5</td>\n",
              "      <td>The Surprising Secret To Changing The World</td>\n",
              "    </tr>\n",
              "  </tbody>\n",
              "</table>\n",
              "</div>"
            ],
            "text/plain": [
              "                                             content  ...                                              title\n",
              "0  This was the year that felt like 50 years. We ...  ...               21 Stories Our Readers Loved in 2017\n",
              "1  Gary Vaynerchuk once told a 20 year old Taylor...  ...                What To Do After Graduating College\n",
              "2  On this episode of Recode Decode, hosted by Ka...  ...  Full transcript: Former Groupon CEO Andrew Mas...\n",
              "3  Today we are going to talk about the Albigensi...  ...         The Albigensian Crusade And The Black Mass\n",
              "4  IntroductionThe more you want to impact the re...  ...        The Surprising Secret To Changing The World\n",
              "\n",
              "[5 rows x 3 columns]"
            ]
          },
          "metadata": {
            "tags": []
          },
          "execution_count": 18
        }
      ]
    },
    {
      "cell_type": "code",
      "metadata": {
        "id": "iRUqhBn8MgCc",
        "colab_type": "code",
        "colab": {}
      },
      "source": [
        "#df.loc[0,\"content\"] # accessing first column, first row\n",
        "#df.iloc[0,0]# accessing first column, second row \n",
        "#subdf = df.head(3)\n",
        "\n",
        "#subdf"
      ],
      "execution_count": 0,
      "outputs": []
    },
    {
      "cell_type": "code",
      "metadata": {
        "id": "yF2zUxZMC74p",
        "colab_type": "code",
        "colab": {
          "base_uri": "https://localhost:8080/",
          "height": 68
        },
        "outputId": "833d01e6-b907-4e77-ee06-d4aa07ed6f5f"
      },
      "source": [
        "import nltk\n",
        "nltk.download('punkt')"
      ],
      "execution_count": 19,
      "outputs": [
        {
          "output_type": "stream",
          "text": [
            "[nltk_data] Downloading package punkt to /root/nltk_data...\n",
            "[nltk_data]   Package punkt is already up-to-date!\n"
          ],
          "name": "stdout"
        },
        {
          "output_type": "execute_result",
          "data": {
            "text/plain": [
              "True"
            ]
          },
          "metadata": {
            "tags": []
          },
          "execution_count": 19
        }
      ]
    },
    {
      "cell_type": "code",
      "metadata": {
        "id": "Yw8YcOX4-lbB",
        "colab_type": "code",
        "colab": {}
      },
      "source": [
        "\n",
        "\n",
        "#tokenized_sent = sent_tokenize(subdf.loc[0, \"content\"])\n",
        "#for i in range(0,10):\n",
        " # print(i+1, tokenized_sent[i]) # Some tokenization issues see sentence 9 below\n",
        "  \n",
        "  # Other pre-processing issues exist, like escape sequences \\n and unicode sequences \\u204 "
      ],
      "execution_count": 0,
      "outputs": []
    },
    {
      "cell_type": "code",
      "metadata": {
        "id": "PftVQIlRpoI3",
        "colab_type": "code",
        "colab": {}
      },
      "source": [
        "from nltk.tokenize import sent_tokenize\n",
        "# using apply to apply sent_tokenize function on entire content column, the result is an array of sentences\n",
        "#result = subdf[\"content\"].apply(sent_tokenize) \n",
        "new_sent =[]\n",
        "for row in df.itertuples():\n",
        "    for sent in sent_tokenize(row[1]):\n",
        "        new_sent.append((sent, row[2]))\n",
        "df_new = pd.DataFrame(new_sent, columns = ['tokenized_sent', 'ID'])"
      ],
      "execution_count": 0,
      "outputs": []
    },
    {
      "cell_type": "code",
      "metadata": {
        "id": "ocuQVj_nTQqH",
        "colab_type": "code",
        "outputId": "07239681-f096-4389-87fe-b5d3d3d515fe",
        "colab": {
          "base_uri": "https://localhost:8080/",
          "height": 142
        }
      },
      "source": [
        "df_new.tail(3)"
      ],
      "execution_count": 21,
      "outputs": [
        {
          "output_type": "execute_result",
          "data": {
            "text/html": [
              "<div>\n",
              "<style scoped>\n",
              "    .dataframe tbody tr th:only-of-type {\n",
              "        vertical-align: middle;\n",
              "    }\n",
              "\n",
              "    .dataframe tbody tr th {\n",
              "        vertical-align: top;\n",
              "    }\n",
              "\n",
              "    .dataframe thead th {\n",
              "        text-align: right;\n",
              "    }\n",
              "</style>\n",
              "<table border=\"1\" class=\"dataframe\">\n",
              "  <thead>\n",
              "    <tr style=\"text-align: right;\">\n",
              "      <th></th>\n",
              "      <th>tokenized_sent</th>\n",
              "      <th>ID</th>\n",
              "    </tr>\n",
              "  </thead>\n",
              "  <tbody>\n",
              "    <tr>\n",
              "      <th>2992308</th>\n",
              "      <td>It's taken him a long time to figure it out, b...</td>\n",
              "      <td>145821</td>\n",
              "    </tr>\n",
              "    <tr>\n",
              "      <th>2992309</th>\n",
              "      <td>Others, including Egypt, sent their foreign mi...</td>\n",
              "      <td>145821</td>\n",
              "    </tr>\n",
              "    <tr>\n",
              "      <th>2992310</th>\n",
              "      <td>This is one story that the US President can't ...</td>\n",
              "      <td>145821</td>\n",
              "    </tr>\n",
              "  </tbody>\n",
              "</table>\n",
              "</div>"
            ],
            "text/plain": [
              "                                            tokenized_sent      ID\n",
              "2992308  It's taken him a long time to figure it out, b...  145821\n",
              "2992309  Others, including Egypt, sent their foreign mi...  145821\n",
              "2992310  This is one story that the US President can't ...  145821"
            ]
          },
          "metadata": {
            "tags": []
          },
          "execution_count": 21
        }
      ]
    }
  ]
}