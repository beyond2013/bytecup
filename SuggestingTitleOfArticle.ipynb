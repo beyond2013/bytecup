{
  "nbformat": 4,
  "nbformat_minor": 0,
  "metadata": {
    "colab": {
      "name": "SuggestingTitleOfArticle.ipynb",
      "version": "0.3.2",
      "provenance": [],
      "collapsed_sections": [],
      "include_colab_link": true
    },
    "kernelspec": {
      "name": "python3",
      "display_name": "Python 3"
    }
  },
  "cells": [
    {
      "cell_type": "markdown",
      "metadata": {
        "id": "view-in-github",
        "colab_type": "text"
      },
      "source": [
        "<a href=\"https://colab.research.google.com/github/beyond2013/bytecup/blob/master/SuggestingTitleOfArticle.ipynb\" target=\"_parent\"><img src=\"https://colab.research.google.com/assets/colab-badge.svg\" alt=\"Open In Colab\"/></a>"
      ]
    },
    {
      "cell_type": "markdown",
      "metadata": {
        "id": "KXxU7vNWWnT7",
        "colab_type": "text"
      },
      "source": [
        "#Loading Training data from google drive. \n",
        "\n",
        "I have uploaded the training data to google drive and for reading it in colab the following code is required."
      ]
    },
    {
      "cell_type": "code",
      "metadata": {
        "id": "aI3B6vPlWeJu",
        "colab_type": "code",
        "outputId": "4d98678b-e526-4716-d090-6248ab6ebf65",
        "colab": {
          "base_uri": "https://localhost:8080/",
          "height": 122
        }
      },
      "source": [
        "from google.colab import drive\n",
        "drive.mount('/content/drive')\n"
      ],
      "execution_count": 1,
      "outputs": [
        {
          "output_type": "stream",
          "text": [
            "Go to this URL in a browser: https://accounts.google.com/o/oauth2/auth?client_id=947318989803-6bn6qk8qdgf4n4g3pfee6491hc0brc4i.apps.googleusercontent.com&redirect_uri=urn%3Aietf%3Awg%3Aoauth%3A2.0%3Aoob&scope=email%20https%3A%2F%2Fwww.googleapis.com%2Fauth%2Fdocs.test%20https%3A%2F%2Fwww.googleapis.com%2Fauth%2Fdrive%20https%3A%2F%2Fwww.googleapis.com%2Fauth%2Fdrive.photos.readonly%20https%3A%2F%2Fwww.googleapis.com%2Fauth%2Fpeopleapi.readonly&response_type=code\n",
            "\n",
            "Enter your authorization code:\n",
            "··········\n",
            "Mounted at /content/drive\n"
          ],
          "name": "stdout"
        }
      ]
    },
    {
      "cell_type": "code",
      "metadata": {
        "id": "as-vWxJCbmnp",
        "colab_type": "code",
        "colab": {}
      },
      "source": [
        "path_to_file = 'drive/My Drive/ByteCupData/bytecup.corpus.train.0.txt' #remove ‘content/’ from path then use "
      ],
      "execution_count": 0,
      "outputs": []
    },
    {
      "cell_type": "code",
      "metadata": {
        "id": "YE7P5LtheWC6",
        "colab_type": "code",
        "colab": {}
      },
      "source": [
        "import pandas as pd\n",
        "df = pd.read_json(path_to_file, lines=True)"
      ],
      "execution_count": 0,
      "outputs": []
    },
    {
      "cell_type": "code",
      "metadata": {
        "id": "e3byqwHsgWgB",
        "colab_type": "code",
        "outputId": "dbb92e3f-9c58-4661-a334-6034953def41",
        "colab": {
          "base_uri": "https://localhost:8080/",
          "height": 204
        }
      },
      "source": [
        "df.head()\n",
        "\n"
      ],
      "execution_count": 4,
      "outputs": [
        {
          "output_type": "execute_result",
          "data": {
            "text/html": [
              "<div>\n",
              "<style scoped>\n",
              "    .dataframe tbody tr th:only-of-type {\n",
              "        vertical-align: middle;\n",
              "    }\n",
              "\n",
              "    .dataframe tbody tr th {\n",
              "        vertical-align: top;\n",
              "    }\n",
              "\n",
              "    .dataframe thead th {\n",
              "        text-align: right;\n",
              "    }\n",
              "</style>\n",
              "<table border=\"1\" class=\"dataframe\">\n",
              "  <thead>\n",
              "    <tr style=\"text-align: right;\">\n",
              "      <th></th>\n",
              "      <th>content</th>\n",
              "      <th>id</th>\n",
              "      <th>title</th>\n",
              "    </tr>\n",
              "  </thead>\n",
              "  <tbody>\n",
              "    <tr>\n",
              "      <th>0</th>\n",
              "      <td>This was the year that felt like 50 years. We ...</td>\n",
              "      <td>1</td>\n",
              "      <td>21 Stories Our Readers Loved in 2017</td>\n",
              "    </tr>\n",
              "    <tr>\n",
              "      <th>1</th>\n",
              "      <td>Gary Vaynerchuk once told a 20 year old Taylor...</td>\n",
              "      <td>2</td>\n",
              "      <td>What To Do After Graduating College</td>\n",
              "    </tr>\n",
              "    <tr>\n",
              "      <th>2</th>\n",
              "      <td>On this episode of Recode Decode, hosted by Ka...</td>\n",
              "      <td>3</td>\n",
              "      <td>Full transcript: Former Groupon CEO Andrew Mas...</td>\n",
              "    </tr>\n",
              "    <tr>\n",
              "      <th>3</th>\n",
              "      <td>Today we are going to talk about the Albigensi...</td>\n",
              "      <td>4</td>\n",
              "      <td>The Albigensian Crusade And The Black Mass</td>\n",
              "    </tr>\n",
              "    <tr>\n",
              "      <th>4</th>\n",
              "      <td>IntroductionThe more you want to impact the re...</td>\n",
              "      <td>5</td>\n",
              "      <td>The Surprising Secret To Changing The World</td>\n",
              "    </tr>\n",
              "  </tbody>\n",
              "</table>\n",
              "</div>"
            ],
            "text/plain": [
              "                                             content  ...                                              title\n",
              "0  This was the year that felt like 50 years. We ...  ...               21 Stories Our Readers Loved in 2017\n",
              "1  Gary Vaynerchuk once told a 20 year old Taylor...  ...                What To Do After Graduating College\n",
              "2  On this episode of Recode Decode, hosted by Ka...  ...  Full transcript: Former Groupon CEO Andrew Mas...\n",
              "3  Today we are going to talk about the Albigensi...  ...         The Albigensian Crusade And The Black Mass\n",
              "4  IntroductionThe more you want to impact the re...  ...        The Surprising Secret To Changing The World\n",
              "\n",
              "[5 rows x 3 columns]"
            ]
          },
          "metadata": {
            "tags": []
          },
          "execution_count": 4
        }
      ]
    },
    {
      "cell_type": "code",
      "metadata": {
        "id": "iRUqhBn8MgCc",
        "colab_type": "code",
        "outputId": "024c07de-ba9d-4c96-de8f-0083ac47449a",
        "colab": {
          "base_uri": "https://localhost:8080/",
          "height": 142
        }
      },
      "source": [
        "#df.loc[0,\"content\"] # accessing first column, first row\n",
        "#df.iloc[0,0]# accessing first column, second row \n",
        "subdf = df.head(3)\n",
        "\n",
        "subdf"
      ],
      "execution_count": 5,
      "outputs": [
        {
          "output_type": "execute_result",
          "data": {
            "text/html": [
              "<div>\n",
              "<style scoped>\n",
              "    .dataframe tbody tr th:only-of-type {\n",
              "        vertical-align: middle;\n",
              "    }\n",
              "\n",
              "    .dataframe tbody tr th {\n",
              "        vertical-align: top;\n",
              "    }\n",
              "\n",
              "    .dataframe thead th {\n",
              "        text-align: right;\n",
              "    }\n",
              "</style>\n",
              "<table border=\"1\" class=\"dataframe\">\n",
              "  <thead>\n",
              "    <tr style=\"text-align: right;\">\n",
              "      <th></th>\n",
              "      <th>content</th>\n",
              "      <th>id</th>\n",
              "      <th>title</th>\n",
              "    </tr>\n",
              "  </thead>\n",
              "  <tbody>\n",
              "    <tr>\n",
              "      <th>0</th>\n",
              "      <td>This was the year that felt like 50 years. We ...</td>\n",
              "      <td>1</td>\n",
              "      <td>21 Stories Our Readers Loved in 2017</td>\n",
              "    </tr>\n",
              "    <tr>\n",
              "      <th>1</th>\n",
              "      <td>Gary Vaynerchuk once told a 20 year old Taylor...</td>\n",
              "      <td>2</td>\n",
              "      <td>What To Do After Graduating College</td>\n",
              "    </tr>\n",
              "    <tr>\n",
              "      <th>2</th>\n",
              "      <td>On this episode of Recode Decode, hosted by Ka...</td>\n",
              "      <td>3</td>\n",
              "      <td>Full transcript: Former Groupon CEO Andrew Mas...</td>\n",
              "    </tr>\n",
              "  </tbody>\n",
              "</table>\n",
              "</div>"
            ],
            "text/plain": [
              "                                             content  ...                                              title\n",
              "0  This was the year that felt like 50 years. We ...  ...               21 Stories Our Readers Loved in 2017\n",
              "1  Gary Vaynerchuk once told a 20 year old Taylor...  ...                What To Do After Graduating College\n",
              "2  On this episode of Recode Decode, hosted by Ka...  ...  Full transcript: Former Groupon CEO Andrew Mas...\n",
              "\n",
              "[3 rows x 3 columns]"
            ]
          },
          "metadata": {
            "tags": []
          },
          "execution_count": 5
        }
      ]
    },
    {
      "cell_type": "code",
      "metadata": {
        "id": "yF2zUxZMC74p",
        "colab_type": "code",
        "colab": {}
      },
      "source": [
        "import nltk\n",
        "nltk.download('punkt')"
      ],
      "execution_count": 0,
      "outputs": []
    },
    {
      "cell_type": "code",
      "metadata": {
        "id": "Yw8YcOX4-lbB",
        "colab_type": "code",
        "colab": {}
      },
      "source": [
        "\n",
        "\n",
        "#tokenized_sent = sent_tokenize(subdf.loc[0, \"content\"])\n",
        "#for i in range(0,10):\n",
        " # print(i+1, tokenized_sent[i]) # Some tokenization issues see sentence 9 below\n",
        "  \n",
        "  # Other pre-processing issues exist, like escape sequences \\n and unicode sequences \\u204 "
      ],
      "execution_count": 0,
      "outputs": []
    },
    {
      "cell_type": "code",
      "metadata": {
        "id": "PftVQIlRpoI3",
        "colab_type": "code",
        "colab": {}
      },
      "source": [
        "from nltk.tokenize import sent_tokenize\n",
        "# using apply to apply sent_tokenize function on entire content column, the result is an array of sentences\n",
        "#result = subdf[\"content\"].apply(sent_tokenize) \n",
        "new_sent =[]\n",
        "for row in subdf.itertuples():\n",
        "    for sent in sent_tokenize(row[1]):\n",
        "        new_sent.append((sent, row[2]))\n",
        "df_new = pd.DataFrame(new_sent, columns = ['tokenized_sent', 'ID'])"
      ],
      "execution_count": 0,
      "outputs": []
    },
    {
      "cell_type": "code",
      "metadata": {
        "id": "ocuQVj_nTQqH",
        "colab_type": "code",
        "colab": {
          "base_uri": "https://localhost:8080/",
          "height": 142
        },
        "outputId": "3a3df656-349b-4b70-83ca-e5601c7c5709"
      },
      "source": [
        "df_new.tail(3)"
      ],
      "execution_count": 16,
      "outputs": [
        {
          "output_type": "execute_result",
          "data": {
            "text/html": [
              "<div>\n",
              "<style scoped>\n",
              "    .dataframe tbody tr th:only-of-type {\n",
              "        vertical-align: middle;\n",
              "    }\n",
              "\n",
              "    .dataframe tbody tr th {\n",
              "        vertical-align: top;\n",
              "    }\n",
              "\n",
              "    .dataframe thead th {\n",
              "        text-align: right;\n",
              "    }\n",
              "</style>\n",
              "<table border=\"1\" class=\"dataframe\">\n",
              "  <thead>\n",
              "    <tr style=\"text-align: right;\">\n",
              "      <th></th>\n",
              "      <th>tokenized_sent</th>\n",
              "      <th>ID</th>\n",
              "    </tr>\n",
              "  </thead>\n",
              "  <tbody>\n",
              "    <tr>\n",
              "      <th>1335</th>\n",
              "      <td>Thank you for having me, it was a lot of fun.</td>\n",
              "      <td>3</td>\n",
              "    </tr>\n",
              "    <tr>\n",
              "      <th>1336</th>\n",
              "      <td>KS: Thanks for coming on the show and you’re f...</td>\n",
              "      <td>3</td>\n",
              "    </tr>\n",
              "    <tr>\n",
              "      <th>1337</th>\n",
              "      <td>CN: No, it was my pleasure.</td>\n",
              "      <td>3</td>\n",
              "    </tr>\n",
              "  </tbody>\n",
              "</table>\n",
              "</div>"
            ],
            "text/plain": [
              "                                         tokenized_sent  ID\n",
              "1335      Thank you for having me, it was a lot of fun.   3\n",
              "1336  KS: Thanks for coming on the show and you’re f...   3\n",
              "1337                        CN: No, it was my pleasure.   3"
            ]
          },
          "metadata": {
            "tags": []
          },
          "execution_count": 16
        }
      ]
    }
  ]
}