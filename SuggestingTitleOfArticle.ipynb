{
  "nbformat": 4,
  "nbformat_minor": 0,
  "metadata": {
    "colab": {
      "name": "SuggestingTitleOfArticle.ipynb",
      "version": "0.3.2",
      "provenance": [],
      "collapsed_sections": [],
      "include_colab_link": true
    },
    "kernelspec": {
      "name": "python3",
      "display_name": "Python 3"
    }
  },
  "cells": [
    {
      "cell_type": "markdown",
      "metadata": {
        "id": "view-in-github",
        "colab_type": "text"
      },
      "source": [
        "<a href=\"https://colab.research.google.com/github/beyond2013/bytecup/blob/master/SuggestingTitleOfArticle.ipynb\" target=\"_parent\"><img src=\"https://colab.research.google.com/assets/colab-badge.svg\" alt=\"Open In Colab\"/></a>"
      ]
    },
    {
      "cell_type": "markdown",
      "metadata": {
        "id": "KXxU7vNWWnT7",
        "colab_type": "text"
      },
      "source": [
        "#Loading Training data from google drive. \n",
        "\n",
        "I have uploaded the training data to google drive and for reading it in colab the following code is required."
      ]
    },
    {
      "cell_type": "code",
      "metadata": {
        "id": "1NY4T7WNxppG",
        "colab_type": "code",
        "colab": {}
      },
      "source": [
        ""
      ],
      "execution_count": 0,
      "outputs": []
    },
    {
      "cell_type": "code",
      "metadata": {
        "id": "aI3B6vPlWeJu",
        "colab_type": "code",
        "outputId": "84142352-13c0-4399-93d1-e4cb792357a9",
        "colab": {
          "base_uri": "https://localhost:8080/",
          "height": 122
        }
      },
      "source": [
        "from google.colab import drive\n",
        "drive.mount('/content/drive')\n"
      ],
      "execution_count": 0,
      "outputs": [
        {
          "output_type": "stream",
          "text": [
            "Go to this URL in a browser: https://accounts.google.com/o/oauth2/auth?client_id=947318989803-6bn6qk8qdgf4n4g3pfee6491hc0brc4i.apps.googleusercontent.com&redirect_uri=urn%3Aietf%3Awg%3Aoauth%3A2.0%3Aoob&scope=email%20https%3A%2F%2Fwww.googleapis.com%2Fauth%2Fdocs.test%20https%3A%2F%2Fwww.googleapis.com%2Fauth%2Fdrive%20https%3A%2F%2Fwww.googleapis.com%2Fauth%2Fdrive.photos.readonly%20https%3A%2F%2Fwww.googleapis.com%2Fauth%2Fpeopleapi.readonly&response_type=code\n",
            "\n",
            "Enter your authorization code:\n",
            "··········\n",
            "Mounted at /content/drive\n"
          ],
          "name": "stdout"
        }
      ]
    },
    {
      "cell_type": "code",
      "metadata": {
        "id": "as-vWxJCbmnp",
        "colab_type": "code",
        "colab": {}
      },
      "source": [
        "path_to_file = 'drive/My Drive/ByteCupData/bytecup.corpus.train.0.txt' #remove ‘content/’ from path then use "
      ],
      "execution_count": 0,
      "outputs": []
    },
    {
      "cell_type": "code",
      "metadata": {
        "id": "YE7P5LtheWC6",
        "colab_type": "code",
        "colab": {}
      },
      "source": [
        "import pandas as pd\n",
        "df = pd.read_json(path_to_file, lines=True)"
      ],
      "execution_count": 0,
      "outputs": []
    },
    {
      "cell_type": "code",
      "metadata": {
        "id": "e3byqwHsgWgB",
        "colab_type": "code",
        "outputId": "e206daf1-20cc-4f51-c95d-202db5225ad9",
        "colab": {
          "base_uri": "https://localhost:8080/",
          "height": 204
        }
      },
      "source": [
        "df.head()\n",
        "\n"
      ],
      "execution_count": 0,
      "outputs": [
        {
          "output_type": "execute_result",
          "data": {
            "text/html": [
              "<div>\n",
              "<style scoped>\n",
              "    .dataframe tbody tr th:only-of-type {\n",
              "        vertical-align: middle;\n",
              "    }\n",
              "\n",
              "    .dataframe tbody tr th {\n",
              "        vertical-align: top;\n",
              "    }\n",
              "\n",
              "    .dataframe thead th {\n",
              "        text-align: right;\n",
              "    }\n",
              "</style>\n",
              "<table border=\"1\" class=\"dataframe\">\n",
              "  <thead>\n",
              "    <tr style=\"text-align: right;\">\n",
              "      <th></th>\n",
              "      <th>content</th>\n",
              "      <th>id</th>\n",
              "      <th>title</th>\n",
              "    </tr>\n",
              "  </thead>\n",
              "  <tbody>\n",
              "    <tr>\n",
              "      <th>0</th>\n",
              "      <td>This was the year that felt like 50 years. We ...</td>\n",
              "      <td>1</td>\n",
              "      <td>21 Stories Our Readers Loved in 2017</td>\n",
              "    </tr>\n",
              "    <tr>\n",
              "      <th>1</th>\n",
              "      <td>Gary Vaynerchuk once told a 20 year old Taylor...</td>\n",
              "      <td>2</td>\n",
              "      <td>What To Do After Graduating College</td>\n",
              "    </tr>\n",
              "    <tr>\n",
              "      <th>2</th>\n",
              "      <td>On this episode of Recode Decode, hosted by Ka...</td>\n",
              "      <td>3</td>\n",
              "      <td>Full transcript: Former Groupon CEO Andrew Mas...</td>\n",
              "    </tr>\n",
              "    <tr>\n",
              "      <th>3</th>\n",
              "      <td>Today we are going to talk about the Albigensi...</td>\n",
              "      <td>4</td>\n",
              "      <td>The Albigensian Crusade And The Black Mass</td>\n",
              "    </tr>\n",
              "    <tr>\n",
              "      <th>4</th>\n",
              "      <td>IntroductionThe more you want to impact the re...</td>\n",
              "      <td>5</td>\n",
              "      <td>The Surprising Secret To Changing The World</td>\n",
              "    </tr>\n",
              "  </tbody>\n",
              "</table>\n",
              "</div>"
            ],
            "text/plain": [
              "                                             content  ...                                              title\n",
              "0  This was the year that felt like 50 years. We ...  ...               21 Stories Our Readers Loved in 2017\n",
              "1  Gary Vaynerchuk once told a 20 year old Taylor...  ...                What To Do After Graduating College\n",
              "2  On this episode of Recode Decode, hosted by Ka...  ...  Full transcript: Former Groupon CEO Andrew Mas...\n",
              "3  Today we are going to talk about the Albigensi...  ...         The Albigensian Crusade And The Black Mass\n",
              "4  IntroductionThe more you want to impact the re...  ...        The Surprising Secret To Changing The World\n",
              "\n",
              "[5 rows x 3 columns]"
            ]
          },
          "metadata": {
            "tags": []
          },
          "execution_count": 4
        }
      ]
    },
    {
      "cell_type": "code",
      "metadata": {
        "id": "iRUqhBn8MgCc",
        "colab_type": "code",
        "outputId": "ee7a9366-4e6f-4c19-9763-5179031c2cdf",
        "colab": {
          "base_uri": "https://localhost:8080/",
          "height": 142
        }
      },
      "source": [
        "#df.loc[0,\"content\"] # accessing first column, first row\n",
        "#df.iloc[0,0]# accessing first column, second row \n",
        "subdf = df.head(3)\n",
        "\n",
        "subdf"
      ],
      "execution_count": 0,
      "outputs": [
        {
          "output_type": "execute_result",
          "data": {
            "text/html": [
              "<div>\n",
              "<style scoped>\n",
              "    .dataframe tbody tr th:only-of-type {\n",
              "        vertical-align: middle;\n",
              "    }\n",
              "\n",
              "    .dataframe tbody tr th {\n",
              "        vertical-align: top;\n",
              "    }\n",
              "\n",
              "    .dataframe thead th {\n",
              "        text-align: right;\n",
              "    }\n",
              "</style>\n",
              "<table border=\"1\" class=\"dataframe\">\n",
              "  <thead>\n",
              "    <tr style=\"text-align: right;\">\n",
              "      <th></th>\n",
              "      <th>content</th>\n",
              "      <th>id</th>\n",
              "      <th>title</th>\n",
              "    </tr>\n",
              "  </thead>\n",
              "  <tbody>\n",
              "    <tr>\n",
              "      <th>0</th>\n",
              "      <td>This was the year that felt like 50 years. We ...</td>\n",
              "      <td>1</td>\n",
              "      <td>21 Stories Our Readers Loved in 2017</td>\n",
              "    </tr>\n",
              "    <tr>\n",
              "      <th>1</th>\n",
              "      <td>Gary Vaynerchuk once told a 20 year old Taylor...</td>\n",
              "      <td>2</td>\n",
              "      <td>What To Do After Graduating College</td>\n",
              "    </tr>\n",
              "    <tr>\n",
              "      <th>2</th>\n",
              "      <td>On this episode of Recode Decode, hosted by Ka...</td>\n",
              "      <td>3</td>\n",
              "      <td>Full transcript: Former Groupon CEO Andrew Mas...</td>\n",
              "    </tr>\n",
              "  </tbody>\n",
              "</table>\n",
              "</div>"
            ],
            "text/plain": [
              "                                             content  ...                                              title\n",
              "0  This was the year that felt like 50 years. We ...  ...               21 Stories Our Readers Loved in 2017\n",
              "1  Gary Vaynerchuk once told a 20 year old Taylor...  ...                What To Do After Graduating College\n",
              "2  On this episode of Recode Decode, hosted by Ka...  ...  Full transcript: Former Groupon CEO Andrew Mas...\n",
              "\n",
              "[3 rows x 3 columns]"
            ]
          },
          "metadata": {
            "tags": []
          },
          "execution_count": 5
        }
      ]
    },
    {
      "cell_type": "code",
      "metadata": {
        "id": "yF2zUxZMC74p",
        "colab_type": "code",
        "outputId": "523f88fa-df68-4298-ce86-01bf72415f13",
        "colab": {
          "base_uri": "https://localhost:8080/",
          "height": 68
        }
      },
      "source": [
        "import nltk\n",
        "nltk.download('punkt')"
      ],
      "execution_count": 0,
      "outputs": [
        {
          "output_type": "stream",
          "text": [
            "[nltk_data] Downloading package punkt to /root/nltk_data...\n",
            "[nltk_data]   Unzipping tokenizers/punkt.zip.\n"
          ],
          "name": "stdout"
        },
        {
          "output_type": "execute_result",
          "data": {
            "text/plain": [
              "True"
            ]
          },
          "metadata": {
            "tags": []
          },
          "execution_count": 6
        }
      ]
    },
    {
      "cell_type": "code",
      "metadata": {
        "id": "Yw8YcOX4-lbB",
        "colab_type": "code",
        "colab": {}
      },
      "source": [
        "\n",
        "\n",
        "from nltk.tokenize import sent_tokenize\n",
        "#tokenized_sent = sent_tokenize(subdf.loc[0, \"content\"])\n",
        "#for i in range(0,10):\n",
        " # print(i+1, tokenized_sent[i]) # Some tokenization issues see sentence 9 below\n",
        "  \n",
        "  # Other pre-processing issues exist, like escape sequences \\n and unicode sequences \\u204 "
      ],
      "execution_count": 0,
      "outputs": []
    },
    {
      "cell_type": "code",
      "metadata": {
        "id": "PftVQIlRpoI3",
        "colab_type": "code",
        "outputId": "f1f18768-9395-45d1-b3fd-63264c02ea54",
        "colab": {
          "base_uri": "https://localhost:8080/",
          "height": 85
        }
      },
      "source": [
        "# using apply to apply sent_tokenize function on entire content column, the result is an array of sentences\n",
        "result = subdf[\"content\"].apply(sent_tokenize) \n",
        "result\n"
      ],
      "execution_count": 0,
      "outputs": [
        {
          "output_type": "execute_result",
          "data": {
            "text/plain": [
              "0    [This was the year that felt like 50 years., W...\n",
              "1    [Gary Vaynerchuk once told a 20 year old Taylo...\n",
              "2    [On this episode of Recode Decode, hosted by K...\n",
              "Name: content, dtype: object"
            ]
          },
          "metadata": {
            "tags": []
          },
          "execution_count": 9
        }
      ]
    },
    {
      "cell_type": "code",
      "metadata": {
        "id": "ocuQVj_nTQqH",
        "colab_type": "code",
        "colab": {}
      },
      "source": [
        "subdf.set_index(['id', 'title'])\n",
        "result = subdf.stack()\n",
        "result.str.split('. ', expand=True)"
      ],
      "execution_count": 0,
      "outputs": []
    },
    {
      "cell_type": "code",
      "metadata": {
        "id": "n3pXd9T2m6mz",
        "colab_type": "code",
        "colab": {}
      },
      "source": [
        ""
      ],
      "execution_count": 0,
      "outputs": []
    },
    {
      "cell_type": "markdown",
      "metadata": {
        "id": "-L_WDihcm78Z",
        "colab_type": "text"
      },
      "source": [
        ""
      ]
    }
  ]
}